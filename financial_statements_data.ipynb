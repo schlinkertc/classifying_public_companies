{
 "cells": [
  {
   "cell_type": "code",
   "execution_count": 1,
   "metadata": {},
   "outputs": [
    {
     "name": "stderr",
     "output_type": "stream",
     "text": [
      "/Users/schlinkertc/Flatiron/projects/classification/scraping.py:18: UserWarning: No parser was explicitly specified, so I'm using the best available HTML parser for this system (\"lxml\"). This usually isn't a problem, but if you run this code on another system, or in a different virtual environment, it may use a different parser and behave differently.\n",
      "\n",
      "The code that caused this warning is on line 18 of the file /Users/schlinkertc/Flatiron/projects/classification/scraping.py. To get rid of this warning, pass the additional argument 'features=\"lxml\"' to the BeautifulSoup constructor.\n",
      "\n",
      "  bs = BeautifulSoup(page)\n"
     ]
    }
   ],
   "source": [
    "import requests\n",
    "import json\n",
    "import pandas as pd\n",
    "from bs4 import BeautifulSoup\n",
    "import edgar_datafied\n",
    "import sec\n",
    "from Humble_Chuck import mysql_helper1 as sql\n",
    "from urllib.request import urlopen\n",
    "from urllib.request import urlretrieve\n",
    "from zipfile import ZipFile\n",
    "import config\n",
    "import os\n",
    "import scraping"
   ]
  },
  {
   "cell_type": "code",
   "execution_count": 14,
   "metadata": {},
   "outputs": [],
   "source": [
    "# THIS PROCESS WILL BECOME AUTOMATED WHEN I FIGURE OUT HOW TO SCRAPE ZIP FILES AND EXTRACT THEM\n",
    "\n",
    "sub_paths = (\n",
    "    ['/Users/schlinkertc/Flatiron/projects/classification/files/'+x+'/sub.txt' \n",
    "     for x in folders]\n",
    ")\n",
    "\n",
    "num_paths = (\n",
    "    ['/Users/schlinkertc/Flatiron/projects/classification/files/'+x+'/num.txt' \n",
    "     for x in folders]\n",
    ")\n",
    "\n",
    "tag_paths = (\n",
    "    ['/Users/schlinkertc/Flatiron/projects/classification/files/'+x+'/tag.txt' \n",
    "     for x in folders]\n",
    ")\n",
    "\n",
    "pre_paths = (\n",
    "    ['/Users/schlinkertc/Flatiron/projects/classification/files/'+x+'/pre.txt' \n",
    "     for x in folders]\n",
    ")"
   ]
  },
  {
   "cell_type": "code",
   "execution_count": 15,
   "metadata": {},
   "outputs": [],
   "source": [
    "sub_dfs = []\n",
    "for path in sub_paths:\n",
    "    sub_dfs.append(pd.read_csv(path,\n",
    "                          sep='\\t',\n",
    "                          lineterminator='\\n',\n",
    "                          header=0))\n",
    "    \n",
    "num_dfs = []\n",
    "for path in num_paths:\n",
    "    num_dfs.append(pd.read_csv(path,\n",
    "                          sep='\\t',\n",
    "                          lineterminator='\\n',\n",
    "                          header=0))\n",
    "    \n",
    "tag_dfs = []\n",
    "for path in tag_paths:\n",
    "    tag_dfs.append(pd.read_csv(path,\n",
    "                          sep='\\t',\n",
    "                          lineterminator='\\n',\n",
    "                          header=0))\n",
    "    \n",
    "pre_dfs = []\n",
    "for path in pre_paths:\n",
    "    pre_dfs.append(pd.read_csv(path,\n",
    "                          sep='\\t',\n",
    "                          lineterminator='\\n',\n",
    "                          header=0))\n",
    "    \n"
   ]
  },
  {
   "cell_type": "code",
   "execution_count": 16,
   "metadata": {},
   "outputs": [],
   "source": [
    "all_subs = pd.concat(sub_dfs,sort=False)\n",
    "all_nums = pd.concat(num_dfs,sort=False)\n",
    "all_tags = pd.concat(tag_dfs,sort=False)\n",
    "all_pres = pd.concat(pre_dfs,sort=False)"
   ]
  },
  {
   "cell_type": "code",
   "execution_count": 17,
   "metadata": {},
   "outputs": [],
   "source": [
    "connection = sql.Connection(config.host,config.admin,config.password)\n",
    "db = sql.DataBase(connection,'financial_statements')"
   ]
  },
  {
   "cell_type": "code",
   "execution_count": 73,
   "metadata": {},
   "outputs": [],
   "source": [
    "# takes in data as df, db connection, table to insert and the primary key of that table \n",
    "# \n",
    "def continue_inserting(data,db,table,key):\n",
    "    \n",
    "    already_inserted = db.query_to_df(f\"\"\"select * from financial_statements.{table};\"\"\")\n",
    "    \n",
    "    not_inserted = data[~data[key].isin(already_inserted[key])]\n",
    "    \n",
    "    db.insert_fromDf_iteration(not_inserted.fillna('NULL'),table)\n",
    "    "
   ]
  },
  {
   "cell_type": "code",
   "execution_count": 75,
   "metadata": {},
   "outputs": [],
   "source": [
    "continue_inserting(all_subs,db,'submissions','adsh')"
   ]
  },
  {
   "cell_type": "code",
   "execution_count": 119,
   "metadata": {},
   "outputs": [
    {
     "name": "stderr",
     "output_type": "stream",
     "text": [
      "//anaconda3/lib/python3.7/site-packages/pandas/core/ops/__init__.py:1115: FutureWarning: elementwise comparison failed; returning scalar instead, but in the future will perform elementwise comparison\n",
      "  result = method(y)\n"
     ]
    },
    {
     "data": {
      "text/html": [
       "<div>\n",
       "<style scoped>\n",
       "    .dataframe tbody tr th:only-of-type {\n",
       "        vertical-align: middle;\n",
       "    }\n",
       "\n",
       "    .dataframe tbody tr th {\n",
       "        vertical-align: top;\n",
       "    }\n",
       "\n",
       "    .dataframe thead th {\n",
       "        text-align: right;\n",
       "    }\n",
       "</style>\n",
       "<table border=\"1\" class=\"dataframe\">\n",
       "  <thead>\n",
       "    <tr style=\"text-align: right;\">\n",
       "      <th></th>\n",
       "      <th>adsh</th>\n",
       "      <th>cik</th>\n",
       "      <th>name</th>\n",
       "      <th>sic</th>\n",
       "      <th>countryba</th>\n",
       "      <th>stprba</th>\n",
       "      <th>cityba</th>\n",
       "      <th>zipba</th>\n",
       "      <th>bas1</th>\n",
       "      <th>bas2</th>\n",
       "      <th>...</th>\n",
       "      <th>period</th>\n",
       "      <th>fy</th>\n",
       "      <th>fp</th>\n",
       "      <th>filed</th>\n",
       "      <th>accepted</th>\n",
       "      <th>prevrpt</th>\n",
       "      <th>detail</th>\n",
       "      <th>instance</th>\n",
       "      <th>nciks</th>\n",
       "      <th>aciks</th>\n",
       "    </tr>\n",
       "  </thead>\n",
       "  <tbody>\n",
       "  </tbody>\n",
       "</table>\n",
       "<p>0 rows × 36 columns</p>\n",
       "</div>"
      ],
      "text/plain": [
       "Empty DataFrame\n",
       "Columns: [adsh, cik, name, sic, countryba, stprba, cityba, zipba, bas1, bas2, baph, countryma, stprma, cityma, zipma, mas1, mas2, countryinc, stprinc, ein, former, changed, afs, wksi, fye, form, period, fy, fp, filed, accepted, prevrpt, detail, instance, nciks, aciks]\n",
       "Index: []\n",
       "\n",
       "[0 rows x 36 columns]"
      ]
     },
     "execution_count": 119,
     "metadata": {},
     "output_type": "execute_result"
    }
   ],
   "source": [
    "all_subs[all_subs['cik']=='0000002178-19-000086']"
   ]
  },
  {
   "cell_type": "code",
   "execution_count": null,
   "metadata": {},
   "outputs": [],
   "source": []
  }
 ],
 "metadata": {
  "kernelspec": {
   "display_name": "Python 3",
   "language": "python",
   "name": "python3"
  },
  "language_info": {
   "codemirror_mode": {
    "name": "ipython",
    "version": 3
   },
   "file_extension": ".py",
   "mimetype": "text/x-python",
   "name": "python",
   "nbconvert_exporter": "python",
   "pygments_lexer": "ipython3",
   "version": "3.7.3"
  }
 },
 "nbformat": 4,
 "nbformat_minor": 2
}
