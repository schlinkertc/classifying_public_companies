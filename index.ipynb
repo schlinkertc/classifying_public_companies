{
 "cells": [
  {
   "cell_type": "code",
   "execution_count": 41,
   "metadata": {},
   "outputs": [],
   "source": [
    "import pandas as pd\n",
    "import config\n",
    "import os\n",
    "import sqlalchemy"
   ]
  },
  {
   "cell_type": "code",
   "execution_count": 42,
   "metadata": {},
   "outputs": [],
   "source": [
    "\n",
    "_sql_alchemy_connection = (\n",
    "                                f'mysql+mysqlconnector://'\n",
    "                                f'{config.admin}:{config.password}'\n",
    "                                f'@{config.host}:{config.port}'\n",
    "                                f'/{config.schema}'\n",
    "                           )\n",
    "db = sqlalchemy.create_engine(_sql_alchemy_connection,\n",
    "                              echo = False,\n",
    "                              connect_args = {'ssl_disabled' : True})"
   ]
  },
  {
   "cell_type": "code",
   "execution_count": 43,
   "metadata": {},
   "outputs": [],
   "source": [
    "directories = [x[0] for x in os.walk('/Users/schlinkertc/Flatiron/projects/classification/txt_files')][1:]\n",
    "file_names = [x[2] for x in os.walk(directories[0])][0]\n",
    "\n",
    "tag_paths = sorted([x+'/'+file_names[0] for x in directories],reverse=True)\n",
    "pre_paths = sorted([x+'/'+file_names[1] for x in directories],reverse=True)\n",
    "sub_paths = sorted([x+'/'+file_names[2] for x in directories],reverse=True)\n",
    "num_paths = sorted([x+'/'+file_names[4] for x in directories],reverse=True)\n",
    "\n",
    "#Dataframes for results from 2018-2019\n",
    "\n",
    "tags = pd.concat([pd.read_csv(x,sep='\\t',\n",
    "             lineterminator='\\n',\n",
    "             header=0,encoding='unicode_escape') for x in tag_paths[:7]\n",
    "          ],axis=0\n",
    "         )\n",
    "\n",
    "presentations = pd.concat([pd.read_csv(x,sep='\\t',\n",
    "             lineterminator='\\n',\n",
    "             header=0,encoding='utf-8') for x in pre_paths[:7]\n",
    "          ],axis=0\n",
    "         )\n",
    "\n",
    "numbers = pd.concat([pd.read_csv(x,sep='\\t',\n",
    "             lineterminator='\\n',\n",
    "             header=0,encoding='unicode_escape') for x in num_paths[:7]\n",
    "          ],axis=0\n",
    "         )\n",
    "\n",
    "submissions = pd.concat([pd.read_csv(x,sep='\\t',\n",
    "             lineterminator='\\n',\n",
    "             header=0,encoding='utf-8') for x in sub_paths[:7]\n",
    "          ],axis=0\n",
    "         )\n"
   ]
  },
  {
   "cell_type": "code",
   "execution_count": 44,
   "metadata": {},
   "outputs": [],
   "source": [
    "submissions = submissions[submissions['form']=='10-K']"
   ]
  },
  {
   "cell_type": "code",
   "execution_count": 45,
   "metadata": {},
   "outputs": [],
   "source": [
    "numbers = numbers[numbers['adsh'].isin(submissions['adsh'])]\n",
    "presentations = presentations[presentations['adsh'].isin(submissions['adsh'])]"
   ]
  },
  {
   "cell_type": "code",
   "execution_count": 46,
   "metadata": {},
   "outputs": [],
   "source": [
    "tags.drop(index=tags[tags['custom']==1].index,inplace=True)"
   ]
  },
  {
   "cell_type": "code",
   "execution_count": 70,
   "metadata": {},
   "outputs": [],
   "source": [
    "ISnumbers = numbers.copy(deep=True)\n",
    "ISnumbers = ISnumbers.join(presentations['stmt'],)\n",
    "#ISnumbers = ISnumbers[ISnumbers['stmt']=='IS']\n",
    "\n",
    "# ISdesired_values = [\n",
    "#     'Revenues',\n",
    "#     'GrossProfit',\n",
    "#     'OperatingIncomeLoss',\n",
    "#     'NetIncomeLoss',\n",
    "#     'ProfitLoss',\n",
    "#     'OperatingExpenses',    \n",
    "# ]\n",
    "\n",
    "ISdesired_values = ['NetIncomeLoss',\n",
    " 'EarningsPerShareBasic',\n",
    " 'EarningsPerShareDiluted',\n",
    " 'OperatingIncomeLoss',\n",
    " 'Revenues',\n",
    " 'IncomeTaxExpenseBenefit',\n",
    " 'CashAndCashEquivalentsAtCarryingValue',\n",
    " 'StockholdersEquity',\n",
    " 'GrossProfit',\n",
    " 'NetCashProvidedByUsedInOperatingActivities',\n",
    " 'ProfitLoss',\n",
    " 'NetCashProvidedByUsedInFinancingActivities',\n",
    " 'InterestExpense',\n",
    " 'WeightedAverageNumberOfSharesOutstandingBasic',\n",
    " 'Assets',\n",
    " 'WeightedAverageNumberOfDilutedSharesOutstanding',\n",
    " 'NetCashProvidedByUsedInInvestingActivities',\n",
    " 'LiabilitiesAndStockholdersEquity',\n",
    " 'IncomeLossFromContinuingOperationsBeforeIncomeTaxesExtraordinaryItemsNoncontrollingInterest',\n",
    " 'ShareBasedCompensation',\n",
    " 'RetainedEarningsAccumulatedDeficit',\n",
    " 'CashAndCashEquivalentsPeriodIncreaseDecrease',\n",
    " 'ComprehensiveIncomeNetOfTax',\n",
    " 'OperatingExpenses',\n",
    " 'EffectiveIncomeTaxRateReconciliationAtFederalStatutoryIncomeTaxRate']\n",
    "\n",
    "ISnumbers = ISnumbers[ISnumbers['tag'].isin(ISdesired_values)]"
   ]
  },
  {
   "cell_type": "code",
   "execution_count": 71,
   "metadata": {},
   "outputs": [
    {
     "data": {
      "text/plain": [
       "(1030362, 10)"
      ]
     },
     "execution_count": 71,
     "metadata": {},
     "output_type": "execute_result"
    }
   ],
   "source": [
    "ISnumbers.shape"
   ]
  },
  {
   "cell_type": "code",
   "execution_count": 72,
   "metadata": {},
   "outputs": [],
   "source": [
    "ISdf = ISnumbers.merge(submissions[['adsh','name','cik','sic','form','fy']],\n",
    "               how='left',\n",
    "               left_on='adsh',\n",
    "               right_on='adsh')"
   ]
  },
  {
   "cell_type": "code",
   "execution_count": 73,
   "metadata": {},
   "outputs": [],
   "source": [
    "ISdf.set_index(['cik'],inplace=True)\n",
    "ISdf.drop(columns=['name','footnote','ddate','version','form','coreg','uom','stmt'],inplace=True)"
   ]
  },
  {
   "cell_type": "code",
   "execution_count": 74,
   "metadata": {},
   "outputs": [],
   "source": [
    "ISdf = ISdf.loc[(ISdf['qtrs']==4) & (ISdf['fy'].astype('int')==2018)]"
   ]
  },
  {
   "cell_type": "code",
   "execution_count": 75,
   "metadata": {},
   "outputs": [],
   "source": [
    "ISdf.drop_duplicates(inplace=True)"
   ]
  },
  {
   "cell_type": "code",
   "execution_count": 76,
   "metadata": {},
   "outputs": [],
   "source": [
    "ISdf.drop(columns=['fy','qtrs'],inplace=True)"
   ]
  },
  {
   "cell_type": "code",
   "execution_count": 77,
   "metadata": {},
   "outputs": [],
   "source": [
    "ISdf['manufacturing'] = ISdf['sic'].map(lambda x: 2000<x<4000)\n",
    "ISdf.drop(columns='sic',inplace=True)"
   ]
  },
  {
   "cell_type": "code",
   "execution_count": 78,
   "metadata": {},
   "outputs": [],
   "source": [
    "#ISdf.dropna(inplace=True)"
   ]
  },
  {
   "cell_type": "code",
   "execution_count": 79,
   "metadata": {},
   "outputs": [],
   "source": [
    "piv = ISdf.reset_index().pivot_table(index=['cik','adsh'],columns='tag',values='value')"
   ]
  },
  {
   "cell_type": "code",
   "execution_count": 80,
   "metadata": {},
   "outputs": [
    {
     "data": {
      "text/plain": [
       "['NetIncomeLoss',\n",
       " 'EarningsPerShareBasic',\n",
       " 'EarningsPerShareDiluted',\n",
       " 'OperatingIncomeLoss',\n",
       " 'Revenues',\n",
       " 'IncomeTaxExpenseBenefit',\n",
       " 'CashAndCashEquivalentsAtCarryingValue',\n",
       " 'StockholdersEquity',\n",
       " 'GrossProfit',\n",
       " 'NetCashProvidedByUsedInOperatingActivities',\n",
       " 'ProfitLoss',\n",
       " 'NetCashProvidedByUsedInFinancingActivities',\n",
       " 'InterestExpense',\n",
       " 'WeightedAverageNumberOfSharesOutstandingBasic',\n",
       " 'Assets',\n",
       " 'WeightedAverageNumberOfDilutedSharesOutstanding',\n",
       " 'NetCashProvidedByUsedInInvestingActivities',\n",
       " 'LiabilitiesAndStockholdersEquity',\n",
       " 'IncomeLossFromContinuingOperationsBeforeIncomeTaxesExtraordinaryItemsNoncontrollingInterest',\n",
       " 'ShareBasedCompensation',\n",
       " 'RetainedEarningsAccumulatedDeficit',\n",
       " 'CashAndCashEquivalentsPeriodIncreaseDecrease',\n",
       " 'ComprehensiveIncomeNetOfTax',\n",
       " 'OperatingExpenses',\n",
       " 'EffectiveIncomeTaxRateReconciliationAtFederalStatutoryIncomeTaxRate']"
      ]
     },
     "execution_count": 80,
     "metadata": {},
     "output_type": "execute_result"
    }
   ],
   "source": [
    "numbers['tag'].value_counts().sort_values(ascending=False).index[:25].tolist()"
   ]
  },
  {
   "cell_type": "code",
   "execution_count": 81,
   "metadata": {},
   "outputs": [
    {
     "data": {
      "text/plain": [
       "5592"
      ]
     },
     "execution_count": 81,
     "metadata": {},
     "output_type": "execute_result"
    }
   ],
   "source": [
    "len(ISdf.reset_index()['cik'].unique())"
   ]
  },
  {
   "cell_type": "code",
   "execution_count": 84,
   "metadata": {},
   "outputs": [
    {
     "data": {
      "text/plain": [
       "tag\n",
       "NetCashProvidedByUsedInOperatingActivities                                                      359\n",
       "NetIncomeLoss                                                                                   379\n",
       "NetCashProvidedByUsedInFinancingActivities                                                      385\n",
       "NetCashProvidedByUsedInInvestingActivities                                                      711\n",
       "IncomeTaxExpenseBenefit                                                                        1187\n",
       "OperatingIncomeLoss                                                                            1309\n",
       "ShareBasedCompensation                                                                         1591\n",
       "EffectiveIncomeTaxRateReconciliationAtFederalStatutoryIncomeTaxRate                            1629\n",
       "InterestExpense                                                                                2102\n",
       "ComprehensiveIncomeNetOfTax                                                                    2150\n",
       "WeightedAverageNumberOfSharesOutstandingBasic                                                  2245\n",
       "WeightedAverageNumberOfDilutedSharesOutstanding                                                2350\n",
       "CashAndCashEquivalentsPeriodIncreaseDecrease                                                   2414\n",
       "EarningsPerShareBasic                                                                          2433\n",
       "EarningsPerShareDiluted                                                                        2531\n",
       "IncomeLossFromContinuingOperationsBeforeIncomeTaxesExtraordinaryItemsNoncontrollingInterest    2742\n",
       "OperatingExpenses                                                                              2813\n",
       "Revenues                                                                                       2863\n",
       "ProfitLoss                                                                                     3091\n",
       "GrossProfit                                                                                    3448\n",
       "dtype: int64"
      ]
     },
     "execution_count": 84,
     "metadata": {},
     "output_type": "execute_result"
    }
   ],
   "source": [
    "piv.isna().sum(axis=0).sort_values()"
   ]
  },
  {
   "cell_type": "code",
   "execution_count": 89,
   "metadata": {},
   "outputs": [],
   "source": [
    "piv['Income/OperationsCash'] = piv['NetCashProvidedByUsedInOperatingActivities']/piv['NetIncomeLoss']\n",
    "piv['Income/FinancingCash'] = piv['NetCashProvidedByUsedInFinancingActivities']/piv['NetIncomeLoss']\n",
    "piv['Income/Investing'] = piv['NetCashProvidedByUsedInInvestingActivities']/piv['NetIncomeLoss']"
   ]
  },
  {
   "cell_type": "code",
   "execution_count": 91,
   "metadata": {},
   "outputs": [],
   "source": [
    "df = piv[['Income/OperationsCash','Income/FinancingCash','Income/Investing']].reset_index()"
   ]
  },
  {
   "cell_type": "code",
   "execution_count": 94,
   "metadata": {},
   "outputs": [],
   "source": [
    "df = df.merge(ISdf['manufacturing'],\n",
    "        how='right',\n",
    "        left_on='cik',\n",
    "        right_on='cik')"
   ]
  },
  {
   "cell_type": "code",
   "execution_count": 98,
   "metadata": {},
   "outputs": [],
   "source": [
    "df = df.drop_duplicates().reset_index()"
   ]
  },
  {
   "cell_type": "code",
   "execution_count": 100,
   "metadata": {},
   "outputs": [],
   "source": [
    "df['manufacturing'] = df['manufacturing'].astype(int)"
   ]
  },
  {
   "cell_type": "code",
   "execution_count": 101,
   "metadata": {},
   "outputs": [
    {
     "data": {
      "text/html": [
       "<div>\n",
       "<style scoped>\n",
       "    .dataframe tbody tr th:only-of-type {\n",
       "        vertical-align: middle;\n",
       "    }\n",
       "\n",
       "    .dataframe tbody tr th {\n",
       "        vertical-align: top;\n",
       "    }\n",
       "\n",
       "    .dataframe thead th {\n",
       "        text-align: right;\n",
       "    }\n",
       "</style>\n",
       "<table border=\"1\" class=\"dataframe\">\n",
       "  <thead>\n",
       "    <tr style=\"text-align: right;\">\n",
       "      <th></th>\n",
       "      <th>index</th>\n",
       "      <th>cik</th>\n",
       "      <th>adsh</th>\n",
       "      <th>Income/OperationsCash</th>\n",
       "      <th>Income/FinancingCash</th>\n",
       "      <th>Income/Investing</th>\n",
       "      <th>manufacturing</th>\n",
       "    </tr>\n",
       "  </thead>\n",
       "  <tbody>\n",
       "    <tr>\n",
       "      <td>0</td>\n",
       "      <td>0</td>\n",
       "      <td>1750</td>\n",
       "      <td>0001047469-18-004978</td>\n",
       "      <td>0.986644</td>\n",
       "      <td>-0.338063</td>\n",
       "      <td>-0.750417</td>\n",
       "      <td>1</td>\n",
       "    </tr>\n",
       "    <tr>\n",
       "      <td>1</td>\n",
       "      <td>43</td>\n",
       "      <td>1800</td>\n",
       "      <td>0001047469-19-000624</td>\n",
       "      <td>3.550766</td>\n",
       "      <td>-1.065960</td>\n",
       "      <td>-2.643581</td>\n",
       "      <td>1</td>\n",
       "    </tr>\n",
       "    <tr>\n",
       "      <td>2</td>\n",
       "      <td>90</td>\n",
       "      <td>1961</td>\n",
       "      <td>0001264931-19-000040</td>\n",
       "      <td>2.477989</td>\n",
       "      <td>-1.202215</td>\n",
       "      <td>-5.056292</td>\n",
       "      <td>0</td>\n",
       "    </tr>\n",
       "    <tr>\n",
       "      <td>3</td>\n",
       "      <td>109</td>\n",
       "      <td>2034</td>\n",
       "      <td>0001144204-18-051414</td>\n",
       "      <td>-0.660066</td>\n",
       "      <td>-0.674697</td>\n",
       "      <td>1.091022</td>\n",
       "      <td>0</td>\n",
       "    </tr>\n",
       "    <tr>\n",
       "      <td>4</td>\n",
       "      <td>159</td>\n",
       "      <td>2098</td>\n",
       "      <td>0001026608-19-000011</td>\n",
       "      <td>1.073440</td>\n",
       "      <td>0.792700</td>\n",
       "      <td>-2.035669</td>\n",
       "      <td>1</td>\n",
       "    </tr>\n",
       "    <tr>\n",
       "      <td>...</td>\n",
       "      <td>...</td>\n",
       "      <td>...</td>\n",
       "      <td>...</td>\n",
       "      <td>...</td>\n",
       "      <td>...</td>\n",
       "      <td>...</td>\n",
       "      <td>...</td>\n",
       "    </tr>\n",
       "    <tr>\n",
       "      <td>5603</td>\n",
       "      <td>194687</td>\n",
       "      <td>1756180</td>\n",
       "      <td>0001683168-19-001042</td>\n",
       "      <td>-0.500135</td>\n",
       "      <td>0.531358</td>\n",
       "      <td>-0.038211</td>\n",
       "      <td>0</td>\n",
       "    </tr>\n",
       "    <tr>\n",
       "      <td>5604</td>\n",
       "      <td>194721</td>\n",
       "      <td>1757067</td>\n",
       "      <td>0001551163-19-000081</td>\n",
       "      <td>0.994917</td>\n",
       "      <td>-0.994917</td>\n",
       "      <td>NaN</td>\n",
       "      <td>0</td>\n",
       "    </tr>\n",
       "    <tr>\n",
       "      <td>5605</td>\n",
       "      <td>194726</td>\n",
       "      <td>1757898</td>\n",
       "      <td>0001757898-19-000005</td>\n",
       "      <td>2.016116</td>\n",
       "      <td>-1.302362</td>\n",
       "      <td>-0.739516</td>\n",
       "      <td>1</td>\n",
       "    </tr>\n",
       "    <tr>\n",
       "      <td>5606</td>\n",
       "      <td>194783</td>\n",
       "      <td>1758009</td>\n",
       "      <td>0001213900-19-005062</td>\n",
       "      <td>0.156186</td>\n",
       "      <td>-0.271230</td>\n",
       "      <td>0.000455</td>\n",
       "      <td>0</td>\n",
       "    </tr>\n",
       "    <tr>\n",
       "      <td>5607</td>\n",
       "      <td>194804</td>\n",
       "      <td>1760026</td>\n",
       "      <td>0001213900-19-006566</td>\n",
       "      <td>0.102998</td>\n",
       "      <td>-0.114573</td>\n",
       "      <td>0.001641</td>\n",
       "      <td>0</td>\n",
       "    </tr>\n",
       "  </tbody>\n",
       "</table>\n",
       "<p>5608 rows × 7 columns</p>\n",
       "</div>"
      ],
      "text/plain": [
       "       index      cik                  adsh  Income/OperationsCash  \\\n",
       "0          0     1750  0001047469-18-004978               0.986644   \n",
       "1         43     1800  0001047469-19-000624               3.550766   \n",
       "2         90     1961  0001264931-19-000040               2.477989   \n",
       "3        109     2034  0001144204-18-051414              -0.660066   \n",
       "4        159     2098  0001026608-19-000011               1.073440   \n",
       "...      ...      ...                   ...                    ...   \n",
       "5603  194687  1756180  0001683168-19-001042              -0.500135   \n",
       "5604  194721  1757067  0001551163-19-000081               0.994917   \n",
       "5605  194726  1757898  0001757898-19-000005               2.016116   \n",
       "5606  194783  1758009  0001213900-19-005062               0.156186   \n",
       "5607  194804  1760026  0001213900-19-006566               0.102998   \n",
       "\n",
       "      Income/FinancingCash  Income/Investing  manufacturing  \n",
       "0                -0.338063         -0.750417              1  \n",
       "1                -1.065960         -2.643581              1  \n",
       "2                -1.202215         -5.056292              0  \n",
       "3                -0.674697          1.091022              0  \n",
       "4                 0.792700         -2.035669              1  \n",
       "...                    ...               ...            ...  \n",
       "5603              0.531358         -0.038211              0  \n",
       "5604             -0.994917               NaN              0  \n",
       "5605             -1.302362         -0.739516              1  \n",
       "5606             -0.271230          0.000455              0  \n",
       "5607             -0.114573          0.001641              0  \n",
       "\n",
       "[5608 rows x 7 columns]"
      ]
     },
     "execution_count": 101,
     "metadata": {},
     "output_type": "execute_result"
    }
   ],
   "source": [
    "df"
   ]
  },
  {
   "cell_type": "code",
   "execution_count": null,
   "metadata": {},
   "outputs": [],
   "source": []
  }
 ],
 "metadata": {
  "kernelspec": {
   "display_name": "Python 3",
   "language": "python",
   "name": "python3"
  },
  "language_info": {
   "codemirror_mode": {
    "name": "ipython",
    "version": 3
   },
   "file_extension": ".py",
   "mimetype": "text/x-python",
   "name": "python",
   "nbconvert_exporter": "python",
   "pygments_lexer": "ipython3",
   "version": "3.7.3"
  }
 },
 "nbformat": 4,
 "nbformat_minor": 2
}
