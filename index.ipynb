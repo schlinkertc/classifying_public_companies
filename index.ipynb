{
 "cells": [
  {
   "cell_type": "code",
   "execution_count": 1,
   "metadata": {},
   "outputs": [],
   "source": [
    "import requests\n",
    "import json\n",
    "import pandas as pd\n",
    "from bs4 import BeautifulSoup\n",
    "import edgar_datafied\n",
    "import sec\n",
    "from Humble_Chuck import mysql_helper1 as sql\n",
    "from urllib.request import urlopen\n",
    "from urllib.request import urlretrieve\n",
    "from zipfile import ZipFile\n",
    "import config\n",
    "import os\n",
    "import sqlalchemy"
   ]
  },
  {
   "cell_type": "code",
   "execution_count": 2,
   "metadata": {},
   "outputs": [],
   "source": [
    "_sql_alchemy_connection = (\n",
    "                                f'mysql+mysqlconnector://'\n",
    "                                f'{config.admin}:{config.password}'\n",
    "                                f'@{config.host}:{config.port}'\n",
    "                                f'/{config.schema}'\n",
    "                           )\n",
    "db = sqlalchemy.create_engine(_sql_alchemy_connection,\n",
    "                              echo = False,\n",
    "                              connect_args = {'ssl_disabled' : True})"
   ]
  },
  {
   "cell_type": "code",
   "execution_count": 14,
   "metadata": {},
   "outputs": [],
   "source": [
    "directories = [x[0] for x in os.walk('/Users/schlinkertc/Flatiron/projects/classification/txt_files')][1:]\n",
    "file_names = [x[2] for x in os.walk(directories[0])][0]\n",
    "\n",
    "tag_paths = sorted([x+'/'+file_names[0] for x in directories],reverse=True)\n",
    "pre_paths = sorted([x+'/'+file_names[1] for x in directories],reverse=True)\n",
    "sub_paths = sorted([x+'/'+file_names[2] for x in directories],reverse=True)\n",
    "num_paths = sorted([x+'/'+file_names[4] for x in directories],reverse=True)"
   ]
  },
  {
   "cell_type": "code",
   "execution_count": 32,
   "metadata": {},
   "outputs": [
    {
     "data": {
      "text/plain": [
       "['/Users/schlinkertc/Flatiron/projects/classification/txt_files/2019q3/tag.txt',\n",
       " '/Users/schlinkertc/Flatiron/projects/classification/txt_files/2019q2/tag.txt',\n",
       " '/Users/schlinkertc/Flatiron/projects/classification/txt_files/2019q1/tag.txt',\n",
       " '/Users/schlinkertc/Flatiron/projects/classification/txt_files/2018q4/tag.txt',\n",
       " '/Users/schlinkertc/Flatiron/projects/classification/txt_files/2018q3/tag.txt',\n",
       " '/Users/schlinkertc/Flatiron/projects/classification/txt_files/2018q2/tag.txt',\n",
       " '/Users/schlinkertc/Flatiron/projects/classification/txt_files/2018q1/tag.txt']"
      ]
     },
     "execution_count": 32,
     "metadata": {},
     "output_type": "execute_result"
    }
   ],
   "source": [
    "tag_paths[:7]==su"
   ]
  },
  {
   "cell_type": "code",
   "execution_count": 35,
   "metadata": {},
   "outputs": [],
   "source": [
    "#Dataframes for results from 2018-2019\n",
    "\n",
    "tags = pd.concat([pd.read_csv(x,sep='\\t',\n",
    "             lineterminator='\\n',\n",
    "             header=0,encoding='unicode_escape') for x in tag_paths[:7]\n",
    "          ],axis=0\n",
    "         )\n",
    "\n",
    "presentations = pd.concat([pd.read_csv(x,sep='\\t',\n",
    "             lineterminator='\\n',\n",
    "             header=0,encoding='utf-8') for x in pre_paths[:7]\n",
    "          ],axis=0\n",
    "         )\n",
    "\n",
    "numbers = pd.concat([pd.read_csv(x,sep='\\t',\n",
    "             lineterminator='\\n',\n",
    "             header=0,encoding='unicode_escape') for x in num_paths[:7]\n",
    "          ],axis=0\n",
    "         )\n",
    "\n",
    "submissions = pd.concat([pd.read_csv(x,sep='\\t',\n",
    "             lineterminator='\\n',\n",
    "             header=0,encoding='utf-8') for x in sub_paths[:7]\n",
    "          ],axis=0\n",
    "         )"
   ]
  },
  {
   "cell_type": "code",
   "execution_count": 22,
   "metadata": {},
   "outputs": [],
   "source": [
    "submissions.to_sql('submissions',db,if_exists='replace',chunksize=20000,index=False)"
   ]
  },
  {
   "cell_type": "code",
   "execution_count": 23,
   "metadata": {},
   "outputs": [],
   "source": [
    "presentations.to_sql('presentations',db,if_exists='replace',chunksize=20000,index=False)"
   ]
  },
  {
   "cell_type": "code",
   "execution_count": 37,
   "metadata": {},
   "outputs": [],
   "source": [
    "tags.to_sql('tags',db,if_exists='replace',chunksize=20000,index=False)"
   ]
  },
  {
   "cell_type": "code",
   "execution_count": 38,
   "metadata": {},
   "outputs": [],
   "source": [
    "numbers.to_sql('numbers',db,if_exists='replace',chunksize=20000,index=False)"
   ]
  },
  {
   "cell_type": "code",
   "execution_count": null,
   "metadata": {},
   "outputs": [],
   "source": []
  }
 ],
 "metadata": {
  "kernelspec": {
   "display_name": "Python 3",
   "language": "python",
   "name": "python3"
  },
  "language_info": {
   "codemirror_mode": {
    "name": "ipython",
    "version": 3
   },
   "file_extension": ".py",
   "mimetype": "text/x-python",
   "name": "python",
   "nbconvert_exporter": "python",
   "pygments_lexer": "ipython3",
   "version": "3.7.3"
  }
 },
 "nbformat": 4,
 "nbformat_minor": 2
}
