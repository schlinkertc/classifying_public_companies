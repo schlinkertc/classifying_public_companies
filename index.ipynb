{
 "cells": [
  {
   "cell_type": "code",
   "execution_count": 1,
   "metadata": {},
   "outputs": [],
   "source": [
    "import requests\n",
    "import json\n",
    "import pandas as pd\n",
    "from bs4 import BeautifulSoup\n",
    "import edgar_datafied\n",
    "import sec\n",
    "from Humble_Chuck import mysql_helper1 as sql\n",
    "from urllib.request import urlopen\n",
    "from urllib.request import urlretrieve\n",
    "from zipfile import ZipFile\n",
    "import config\n",
    "import os\n",
    "import sqlalchemy\n",
    "\n",
    "_sql_alchemy_connection = (\n",
    "                                f'mysql+mysqlconnector://'\n",
    "                                f'{config.admin}:{config.password}'\n",
    "                                f'@{config.host}:{config.port}'\n",
    "                                f'/{config.schema}'\n",
    "                           )\n",
    "db = sqlalchemy.create_engine(_sql_alchemy_connection,\n",
    "                              echo = False,\n",
    "                              connect_args = {'ssl_disabled' : True})"
   ]
  },
  {
   "cell_type": "code",
   "execution_count": null,
   "metadata": {},
   "outputs": [],
   "source": []
  }
 ],
 "metadata": {
  "kernelspec": {
   "display_name": "Python 3",
   "language": "python",
   "name": "python3"
  },
  "language_info": {
   "codemirror_mode": {
    "name": "ipython",
    "version": 3
   },
   "file_extension": ".py",
   "mimetype": "text/x-python",
   "name": "python",
   "nbconvert_exporter": "python",
   "pygments_lexer": "ipython3",
   "version": "3.7.3"
  }
 },
 "nbformat": 4,
 "nbformat_minor": 2
}
